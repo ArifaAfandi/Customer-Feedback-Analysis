{
 "cells": [
  {
   "cell_type": "code",
   "execution_count": 1,
   "id": "9fcbcae3-9418-40b0-8076-9aa4fea70a95",
   "metadata": {},
   "outputs": [],
   "source": [
    "import pandas as pd\n",
    "import matplotlib.pyplot as plt\n",
    "import seaborn as sns"
   ]
  },
  {
   "cell_type": "code",
   "execution_count": 2,
   "id": "f74a09d4-43a7-4d05-b326-f703c206087b",
   "metadata": {},
   "outputs": [],
   "source": [
    "excel_file = pd.ExcelFile('./customerfeedback.xlsx')\n",
    "sheet_names = excel_file.sheet_names\n",
    "dfs = pd.read_excel('./customerfeedback.xlsx', sheet_name=sheet_names)\n",
    "df_cust_table = dfs['Customer Table']\n",
    "df_sup_tickets = dfs['Support Tickets']\n",
    "df_device = dfs['Device']\n",
    "df_company = dfs['Company']\n",
    "df_subs = dfs['Subscription']\n",
    "df_geo = dfs['Geography']\n",
    "df_role = dfs['Role']"
   ]
  },
  {
   "cell_type": "code",
   "execution_count": 3,
   "id": "181860a6-174b-4bad-9719-7fa7c561cc98",
   "metadata": {},
   "outputs": [
    {
     "name": "stdout",
     "output_type": "stream",
     "text": [
      "<class 'pandas.core.frame.DataFrame'>\n",
      "RangeIndex: 45218 entries, 0 to 45217\n",
      "Data columns (total 10 columns):\n",
      " #   Column              Non-Null Count  Dtype  \n",
      "---  ------              --------------  -----  \n",
      " 0   Customer ID         45218 non-null  int64  \n",
      " 1   Tenure              44406 non-null  float64\n",
      " 2   Geography ID        45218 non-null  int64  \n",
      " 3   Completed tutorial  45218 non-null  object \n",
      " 4   Subscription ID     45218 non-null  int64  \n",
      " 5   Role                45218 non-null  int64  \n",
      " 6   Company ID          45218 non-null  int64  \n",
      " 7   Rating              45218 non-null  object \n",
      " 8   Theme               45218 non-null  object \n",
      " 9   Original Score      45218 non-null  int64  \n",
      "dtypes: float64(1), int64(6), object(3)\n",
      "memory usage: 3.4+ MB\n"
     ]
    },
    {
     "data": {
      "text/plain": [
       "812"
      ]
     },
     "execution_count": 3,
     "metadata": {},
     "output_type": "execute_result"
    }
   ],
   "source": [
    "#EDA\n",
    "df_cust_table.info()\n",
    "df_cust_table['Customer ID'].is_unique\n",
    "df_cust_table['Tenure'].isnull().sum()"
   ]
  },
  {
   "cell_type": "code",
   "execution_count": 4,
   "id": "3053142d-c4db-4f35-8a27-aa52deb16053",
   "metadata": {},
   "outputs": [
    {
     "data": {
      "image/png": "[encoded data removed]",
      "text/plain": [
       "<Figure size 640x480 with 1 Axes>"
      ]
     },
     "metadata": {},
     "output_type": "display_data"
    }
   ],
   "source": [
    "# Checking if the Tenure column is normal distributed(for handling the missing values)\n",
    "sns.histplot(df_cust_table['Tenure'], kde=True)\n",
    "plt.show()\n",
    "# as we see, datas in this column are non-normally distributed. As a result, we will replace the missing values with median"
   ]
  },
  {
   "cell_type": "code",
   "execution_count": 15,
   "id": "6201ce84-328f-40cc-a046-849a6d1f2295",
   "metadata": {},
   "outputs": [
    {
     "name": "stdout",
     "output_type": "stream",
     "text": [
      "<class 'pandas.core.frame.DataFrame'>\n",
      "RangeIndex: 45218 entries, 0 to 45217\n",
      "Data columns (total 10 columns):\n",
      " #   Column              Non-Null Count  Dtype  \n",
      "---  ------              --------------  -----  \n",
      " 0   Customer ID         45218 non-null  int64  \n",
      " 1   Tenure              45218 non-null  float64\n",
      " 2   Geography ID        45218 non-null  int64  \n",
      " 3   Completed tutorial  45218 non-null  object \n",
      " 4   Subscription ID     45218 non-null  int64  \n",
      " 5   Role                45218 non-null  int64  \n",
      " 6   Company ID          45218 non-null  int64  \n",
      " 7   Rating              45218 non-null  object \n",
      " 8   Theme               45218 non-null  object \n",
      " 9   Original Score      45218 non-null  int64  \n",
      "dtypes: float64(1), int64(6), object(3)\n",
      "memory usage: 3.4+ MB\n"
     ]
    },
    {
     "data": {
      "text/plain": [
       "array([4, 5, 2, 3, 1], dtype=int64)"
      ]
     },
     "execution_count": 15,
     "metadata": {},
     "output_type": "execute_result"
    }
   ],
   "source": [
    "df_cust_table['Tenure'] = df_cust_table['Tenure'].fillna(df_cust_table['Tenure'].median())\n",
    "df_cust_table.info()\n",
    "df_cust_table['Completed tutorial'].unique()\n",
    "df_cust_table['Rating'].unique()\n",
    "df_cust_table['Theme'].unique()\n",
    "df_cust_table['Original Score'].max()\n",
    "df_cust_table[df_cust_table['Rating'] == 'Low']['Original Score'].unique() # score given equal to or below from 5 are considered as a low rating"
   ]
  },
  {
   "cell_type": "code",
   "execution_count": 16,
   "id": "cb5d3c75-7a5c-40ca-9c41-4f90a544d7fb",
   "metadata": {},
   "outputs": [
    {
     "name": "stdout",
     "output_type": "stream",
     "text": [
      "<class 'pandas.core.frame.DataFrame'>\n",
      "RangeIndex: 126644 entries, 0 to 126643\n",
      "Data columns (total 6 columns):\n",
      " #   Column             Non-Null Count   Dtype         \n",
      "---  ------             --------------   -----         \n",
      " 0   Support Ticket ID  126644 non-null  int64         \n",
      " 1   Customer ID        126644 non-null  int64         \n",
      " 2   Date Created       126644 non-null  datetime64[ns]\n",
      " 3   Date Completed     126644 non-null  datetime64[ns]\n",
      " 4   Escalated          126644 non-null  int64         \n",
      " 5   Duration           126644 non-null  int64         \n",
      "dtypes: datetime64[ns](2), int64(4)\n",
      "memory usage: 5.8 MB\n"
     ]
    },
    {
     "data": {
      "text/plain": [
       "array(['speed', 'features', 'design', 'price', 'governance', 'security',\n",
       "       'reliability', 'services', 'support', 'navigation', 'other',\n",
       "       'usability'], dtype=object)"
      ]
     },
     "execution_count": 16,
     "metadata": {},
     "output_type": "execute_result"
    }
   ],
   "source": [
    "df_sup_tickets.info()"
   ]
  },
  {
   "cell_type": "code",
   "execution_count": 7,
   "id": "278dcd11-bd66-4344-bb21-fc555b70348e",
   "metadata": {},
   "outputs": [
    {
     "name": "stdout",
     "output_type": "stream",
     "text": [
      "<class 'pandas.core.frame.DataFrame'>\n",
      "RangeIndex: 69057 entries, 0 to 69056\n",
      "Data columns (total 3 columns):\n",
      " #   Column       Non-Null Count  Dtype \n",
      "---  ------       --------------  ----- \n",
      " 0   ID           69057 non-null  int64 \n",
      " 1   Customer ID  69057 non-null  int64 \n",
      " 2   device       69057 non-null  object\n",
      "dtypes: int64(2), object(1)\n",
      "memory usage: 1.6+ MB\n"
     ]
    },
    {
     "data": {
      "text/plain": [
       "array(['browser', 'tablet', 'mobile'], dtype=object)"
      ]
     },
     "execution_count": 7,
     "metadata": {},
     "output_type": "execute_result"
    }
   ],
   "source": [
    "df_device.info()\n",
    "df_device['device'].unique()"
   ]
  },
  {
   "cell_type": "code",
   "execution_count": 8,
   "id": "fcbbd2f6-1912-4ddf-83c7-359a5f3217e5",
   "metadata": {},
   "outputs": [
    {
     "name": "stdout",
     "output_type": "stream",
     "text": [
      "<class 'pandas.core.frame.DataFrame'>\n",
      "RangeIndex: 3 entries, 0 to 2\n",
      "Data columns (total 2 columns):\n",
      " #   Column        Non-Null Count  Dtype \n",
      "---  ------        --------------  ----- \n",
      " 0   Company ID    3 non-null      int64 \n",
      " 1   Company Size  3 non-null      object\n",
      "dtypes: int64(1), object(1)\n",
      "memory usage: 180.0+ bytes\n"
     ]
    }
   ],
   "source": [
    "df_company.info()"
   ]
  },
  {
   "cell_type": "code",
   "execution_count": 9,
   "id": "dd1405d7-950f-4269-9db0-10ce2e4661c5",
   "metadata": {},
   "outputs": [
    {
     "name": "stdout",
     "output_type": "stream",
     "text": [
      "<class 'pandas.core.frame.DataFrame'>\n",
      "RangeIndex: 3 entries, 0 to 2\n",
      "Data columns (total 2 columns):\n",
      " #   Column             Non-Null Count  Dtype \n",
      "---  ------             --------------  ----- \n",
      " 0   Subscription ID    3 non-null      int64 \n",
      " 1   Subscription Type  3 non-null      object\n",
      "dtypes: int64(1), object(1)\n",
      "memory usage: 180.0+ bytes\n"
     ]
    }
   ],
   "source": [
    "df_subs.info()"
   ]
  },
  {
   "cell_type": "code",
   "execution_count": 10,
   "id": "8b7e2b29-52cc-4ac0-b335-5f683aaa67fd",
   "metadata": {},
   "outputs": [
    {
     "name": "stdout",
     "output_type": "stream",
     "text": [
      "<class 'pandas.core.frame.DataFrame'>\n",
      "RangeIndex: 10 entries, 0 to 9\n",
      "Data columns (total 3 columns):\n",
      " #   Column          Non-Null Count  Dtype \n",
      "---  ------          --------------  ----- \n",
      " 0   Geography ID    10 non-null     int64 \n",
      " 1   Continent       10 non-null     object\n",
      " 2   Country-Region  10 non-null     object\n",
      "dtypes: int64(1), object(2)\n",
      "memory usage: 372.0+ bytes\n"
     ]
    }
   ],
   "source": [
    "df_geo.info()"
   ]
  },
  {
   "cell_type": "code",
   "execution_count": 11,
   "id": "f06e0daf-ba31-48f1-9c69-c73ee7d698c8",
   "metadata": {},
   "outputs": [
    {
     "name": "stdout",
     "output_type": "stream",
     "text": [
      "<class 'pandas.core.frame.DataFrame'>\n",
      "RangeIndex: 3 entries, 0 to 2\n",
      "Data columns (total 2 columns):\n",
      " #   Column       Non-Null Count  Dtype \n",
      "---  ------       --------------  ----- \n",
      " 0   Role ID      3 non-null      int64 \n",
      " 1   Role in Org  3 non-null      object\n",
      "dtypes: int64(1), object(1)\n",
      "memory usage: 180.0+ bytes\n"
     ]
    }
   ],
   "source": [
    "df_role.info()"
   ]
  },
  {
   "cell_type": "code",
   "execution_count": 12,
   "id": "f49945ba-6027-42e0-a776-9e5886fdc841",
   "metadata": {},
   "outputs": [],
   "source": [
    "df_cust_table.to_csv('modified_cus_table.csv', index=False)"
   ]
  }
 ],
 "metadata": {
  "kernelspec": {
   "display_name": "Python 3 (ipykernel)",
   "language": "python",
   "name": "python3"
  },
  "language_info": {
   "codemirror_mode": {
    "name": "ipython",
    "version": 3
   },
   "file_extension": ".py",
   "mimetype": "text/x-python",
   "name": "python",
   "nbconvert_exporter": "python",
   "pygments_lexer": "ipython3",
   "version": "3.11.7"
  }
 },
 "nbformat": 4,
 "nbformat_minor": 5
}
